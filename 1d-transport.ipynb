{
 "cells": [
  {
   "cell_type": "code",
   "execution_count": 2,
   "metadata": {},
   "outputs": [],
   "source": [
    "import numpy as np\n",
    "import scipy\n",
    "import matplotlib.pyplot as plt"
   ]
  },
  {
   "cell_type": "code",
   "execution_count": 7,
   "metadata": {},
   "outputs": [],
   "source": [
    "# Problem parameters\n",
    "sigma_s = 0 # Macroscopic cross section for scattering [cm^(-1)] {Play with sigma_s = ln(2) or something}\n",
    "sigma_t = 1 # Macroscopic total interaction cross section [cm^(-1)] (reciprocal is neutron mean free path (mfp))\n",
    "q_ext = 3 # External source density rate [TODO: insert units]\n",
    "# q = q_ext/2.0 # Source density rate [TODO: insert units]\n",
    "\n",
    "# Left- and right-endpoints of domain\n",
    "a = 0\n",
    "b = 10\n",
    "\n",
    "# Number of cells in domain\n",
    "ncells = 9\n",
    "# Number of points in domain\n",
    "npts   = ncells + 1\n",
    "points = np.linspace(a, b, npts)\n",
    "dx     = np.abs(points[1] - points[0])\n",
    "\n",
    "# Auxillary term for calculation clarity in the loops below\n",
    "aux_term = (sigma_t/2.0)*dx\n",
    "\n",
    "# BCs\n",
    "psi_left = 0.5\n",
    "psi_right = 1.5\n",
    "\n",
    "# Quadrature order (needs to be EVEN to avoid mu = 0)\n",
    "m = 16\n",
    "angles, weights = scipy.special.roots_legendre(m)\n",
    "# By default, angles go from negative to positive, and we want the opposite\n",
    "angles = np.flip(angles)\n",
    "\n",
    "# Array to store angular fluxes in all directions at the previous cell interface\n",
    "psi_prev = np.full((m, ), psi_right) # Enforce right BC\n",
    "psi_prev[0::m//2] = psi_left # Enforce left BC\n",
    "\n",
    "# Array to store scalar fluxes at the midpoint of each cell\n",
    "sca_fluxes = np.full((ncells, ), np.log(2)) # Initial guesses for midpoint scalar fluxes\n",
    "\n",
    "# If the absolute difference of successive iterates of the scalar flux at\n",
    "# cell interface i is below this, then we stop updating the scalar flux at \n",
    "# that interface\n",
    "eps = 1e-14\n",
    "\n",
    "for i in np.arange(0, ncells):\n",
    "    next_sca_flux = 0.0\n",
    "    sca_flux_err = np.abs(sca_fluxes[i] - next_sca_flux)\n",
    "    \n",
    "    # Initial guess for the source term at midpoint of cell i\n",
    "    curr_source = (q_ext/2.0) + (sigma_s/2.0)*sca_fluxes[i]\n",
    "\n",
    "    while sca_flux_err >= eps: \n",
    "        for j, mu in enumerate(angles):\n",
    "            abs_mu = np.abs(mu) \n",
    "            psi_next_i_j = ((abs_mu - aux_term)*psi_prev[j] + curr_source*dx) / \\\n",
    "                            (abs_mu + aux_term)\n",
    "\n",
    "            # Update scalar flux at cell interface i using the average of the\n",
    "            # angular flux at the previous cell interace and the just computed angular\n",
    "            # flux at the current cell interface \n",
    "            psi_avg_i_j            = (psi_next_i_j + psi_prev[j])/2.0\n",
    "            next_sca_flux   += psi_avg_i_j * weights[j]\n",
    "\n",
    "            # If the difference is small enough, set the angular flux at the \n",
    "            # previous cell interface to be the angular flux at the current interface\n",
    "            if sca_flux_err < eps:\n",
    "                psi_prev[j] = psi_next_i_j\n",
    "\n",
    "        sca_flux_err = np.abs(next_sca_flux - sca_fluxes[i])\n",
    "\n",
    "        # Update the source term\n",
    "        sca_fluxes[i] = next_sca_flux\n",
    "        curr_source    = (q_ext/2.0) + (sigma_s/2.0)*sca_fluxes[i]\n",
    "        next_sca_flux  = 0.0"
   ]
  },
  {
   "cell_type": "code",
   "execution_count": 8,
   "metadata": {},
   "outputs": [
    {
     "name": "stdout",
     "output_type": "stream",
     "text": [
      "[2.56933648 2.56933648 2.56933648 2.56933648 2.56933648 2.56933648\n",
      " 2.56933648 2.56933648 2.56933648]\n"
     ]
    }
   ],
   "source": [
    "print(sca_fluxes)"
   ]
  },
  {
   "cell_type": "code",
   "execution_count": 9,
   "metadata": {},
   "outputs": [
    {
     "name": "stdout",
     "output_type": "stream",
     "text": [
      "0 = 1.5\n",
      "1 = 1.5\n",
      "2 = 1.5\n",
      "3 = 1.5\n",
      "4 = 1.5\n",
      "5 = 1.5\n",
      "6 = 1.5\n",
      "7 = 1.5\n",
      "8 = 1.5\n",
      "9 = 1.5\n",
      "10 = 1.5\n",
      "11 = 1.5\n",
      "12 = 1.5\n",
      "13 = 1.5\n",
      "14 = 1.5\n",
      "15 = 1.5\n",
      "0 = 1.6246254406948886\n",
      "1 = 1.6283494158654297\n",
      "2 = 1.6354789456154952\n",
      "3 = 1.6468701476699026\n",
      "4 = 1.6640835739203017\n",
      "5 = 1.6899626471438551\n",
      "6 = 1.7299931781568278\n",
      "7 = 1.7959580922136182\n",
      "8 = 1.7959580922136182\n",
      "9 = 1.7299931781568278\n",
      "10 = 1.6899626471438551\n",
      "11 = 1.6640835739203017\n",
      "12 = 1.6468701476699026\n",
      "13 = 1.6354789456154952\n",
      "14 = 1.6283494158654297\n",
      "15 = 1.6246254406948886\n"
     ]
    }
   ],
   "source": [
    "# Problem parameters\n",
    "sigma_s = 0.5 # Macroscopic cross section for scattering [cm^(-1)] {Play with sigma_s = ln(2) or something}\n",
    "sigma_t = 1 # Macroscopic total interaction cross section [cm^(-1)] (reciprocal is neutron mean free path (mfp))\n",
    "q_ext = 3 # External source density rate [TODO: insert units]\n",
    "# q = q_ext/2.0 # Source density rate [TODO: insert units]\n",
    "\n",
    "# Left- and right-endpoints of domain\n",
    "a = 0\n",
    "b = 10\n",
    "\n",
    "# Number of cells in domain\n",
    "ncells = 9\n",
    "# Number of points in domain\n",
    "npts   = ncells + 1\n",
    "points = np.linspace(a, b, npts)\n",
    "dx     = np.abs(points[1] - points[0])\n",
    "\n",
    "# Auxillary term for calculation clarity in the loops below\n",
    "aux_term = (sigma_t/2.0)*dx\n",
    "\n",
    "# BCs\n",
    "psi_left = 1.5\n",
    "psi_right = 1.5\n",
    "\n",
    "# Quadrature order (needs to be EVEN to avoid mu = 0)\n",
    "m = 16\n",
    "angles, weights = scipy.special.roots_legendre(m)\n",
    "# By default, angles go from negative to positive, and we want the opposite\n",
    "angles = np.flip(angles)\n",
    "\n",
    "eps = 1e-14\n",
    "psi_prev = np.full((m, ), psi_right) # Enforce right BC\n",
    "psi_prev[0::m//2] = psi_left         # Enforce left BC\n",
    "\n",
    "curr_scalar_fluxes = np.full((ncells, ), np.log(2))\n",
    "new_scalar_fluxes  = np.zeros(curr_scalar_fluxes.shape)\n",
    "scalar_flux_err    = np.abs(new_scalar_fluxes - curr_scalar_fluxes)\n",
    "\n",
    "while np.any(scalar_flux_err >= eps):\n",
    "    curr_source_term = (q_ext + sigma_s*curr_scalar_fluxes)/2.0\n",
    "\n",
    "    for d, mu in enumerate(angles):\n",
    "        # print(f\"{d} = {psi_prev[d]}\")\n",
    "        abs_mu = np.abs(mu)\n",
    "        \n",
    "        for i in np.arange(ncells):\n",
    "            psi_d_i_next      = ((abs_mu - aux_term) * psi_prev[d] + curr_source_term[i]*dx)/ \\\n",
    "                                 (abs_mu + aux_term)\n",
    "            avg_psi           = (psi_d_i_next + psi_prev[d])/2.0\n",
    "            new_scalar_fluxes[i] += avg_psi * weights[d]\n",
    "\n",
    "        # Update the previous angular flux for the next direction mu\n",
    "        psi_prev[d] = psi_d_i_next\n",
    "    \n",
    "    # Update source term with updated scalar flux\n",
    "    scalar_flux_err = np.abs(new_scalar_fluxes - curr_scalar_fluxes)\n",
    "    curr_scalar_fluxes = new_scalar_fluxes\n",
    "    new_scalar_fluxes[:] = 0.0"
   ]
  },
  {
   "cell_type": "code",
   "execution_count": 7,
   "metadata": {},
   "outputs": [
    {
     "name": "stdout",
     "output_type": "stream",
     "text": [
      "[0. 0. 0. 0. 0. 0. 0. 0. 0.]\n"
     ]
    }
   ],
   "source": [
    "print(curr_scalar_fluxes)"
   ]
  }
 ],
 "metadata": {
  "kernelspec": {
   "display_name": "ray-tracing",
   "language": "python",
   "name": "python3"
  },
  "language_info": {
   "codemirror_mode": {
    "name": "ipython",
    "version": 3
   },
   "file_extension": ".py",
   "mimetype": "text/x-python",
   "name": "python",
   "nbconvert_exporter": "python",
   "pygments_lexer": "ipython3",
   "version": "3.12.5"
  }
 },
 "nbformat": 4,
 "nbformat_minor": 2
}
