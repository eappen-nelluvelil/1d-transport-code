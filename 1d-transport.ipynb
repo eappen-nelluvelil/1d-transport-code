{
 "cells": [
  {
   "cell_type": "code",
   "execution_count": 1,
   "metadata": {},
   "outputs": [],
   "source": [
    "import numpy as np\n",
    "import scipy\n",
    "import matplotlib.pyplot as plt"
   ]
  },
  {
   "cell_type": "code",
   "execution_count": 6,
   "metadata": {},
   "outputs": [
    {
     "name": "stdout",
     "output_type": "stream",
     "text": [
      "[3.91017459 4.64830646 4.62332481 4.68593281 4.66123171 4.68034355\n",
      " 4.66817869 4.67677111 4.67083416]\n"
     ]
    }
   ],
   "source": [
    "# Problem parameters\n",
    "sigma_s = 0.5 # Macroscopic cross section for scattering [cm^(-1)] {Play with sigma_s = ln(2) or something}\n",
    "sigma_t = 1 # Macroscopic total interaction cross section [cm^(-1)] (reciprocal is neutron mean free path (mfp))\n",
    "q_ext = 3 # External source density rate [TODO: insert units]\n",
    "\n",
    "# Left- and right-endpoints of domain\n",
    "a = 0\n",
    "b = 10\n",
    "\n",
    "# Number of cells in domain\n",
    "ncells = 9\n",
    "# Number of points in domain\n",
    "npts   = ncells + 1\n",
    "points = np.linspace(a, b, npts)\n",
    "dx     = np.abs(points[1] - points[0])\n",
    "\n",
    "# Auxillary term for calculation clarity in the loops below\n",
    "aux_term = (sigma_t/2.0)*dx\n",
    "\n",
    "# BCs\n",
    "psi_left = 1.5\n",
    "psi_right = 1.5\n",
    "\n",
    "# Quadrature order (needs to be EVEN to avoid mu = 0)\n",
    "m = 16\n",
    "angles, weights = scipy.special.roots_legendre(m)\n",
    "# By default, angles go from negative to positive, and we want the opposite\n",
    "angles = np.flip(angles)\n",
    "\n",
    "eps = 1e-14\n",
    "\n",
    "curr_scalar_fluxes = np.full((ncells, ), np.log(2))\n",
    "new_scalar_fluxes  = np.zeros(curr_scalar_fluxes.shape)\n",
    "max_scalar_flux_err = np.max(np.abs(new_scalar_fluxes - curr_scalar_fluxes))\n",
    "\n",
    "while np.any(max_scalar_flux_err >= eps):\n",
    "    # Iteratively compute source term as we update the scalar fluxes\n",
    "    curr_source_term = (q_ext + sigma_s*curr_scalar_fluxes)/2.0\n",
    "    # Reset new scalar fluxes to zero to iteratively update the current scalar fluxes\n",
    "    new_scalar_fluxes[:] = 0.0\n",
    "    for d, mu in enumerate(angles):\n",
    "        abs_mu = np.abs(mu)\n",
    "        if mu > 0:\n",
    "            psi_prev = psi_left\n",
    "        else:\n",
    "            psi_prev = psi_right\n",
    "        \n",
    "        for i in np.arange(ncells):\n",
    "            psi_d_i_next      = ((abs_mu - aux_term) * psi_prev + curr_source_term[i]*dx)/ \\\n",
    "                                 (abs_mu + aux_term)\n",
    "            avg_psi           = (psi_d_i_next + psi_prev)/2.0\n",
    "            new_scalar_fluxes[i] += avg_psi * weights[d]\n",
    "            # Store new angular flux at current direction and cell interface\n",
    "            # to update the next angular flux at the next cell interface\n",
    "            # in the same direction\n",
    "            psi_prev = psi_d_i_next \n",
    "    \n",
    "    # Re-compute max error and update source term with updated scalar flux\n",
    "    max_scalar_flux_err = np.max(np.abs(new_scalar_fluxes - curr_scalar_fluxes))\n",
    "    curr_scalar_fluxes = new_scalar_fluxes\n",
    "\n",
    "print(curr_scalar_fluxes)"
   ]
  },
  {
   "cell_type": "code",
   "execution_count": null,
   "metadata": {},
   "outputs": [],
   "source": [
    "plt.figure()\n",
    "plt.plot(np.arange(ncells) + 1, curr_scalar_fluxes, 'o-')\n",
    "plt.xlabel('Cell number')\n",
    "plt.ylabel('Scalar flux')\n",
    "plt.title('Scalar flux in each cell')\n",
    "plt.show()"
   ]
  },
  {
   "cell_type": "code",
   "execution_count": 18,
   "metadata": {},
   "outputs": [
    {
     "name": "stdout",
     "output_type": "stream",
     "text": [
      "[5.56369049 6.30743631 5.78094046 6.15806815 5.88433035 6.08595179\n",
      " 5.93507302 6.0498965  5.96097328 6.0310664  5.97484262 6.02070788\n",
      " 5.98269278 6.01466845 5.98741051 6.01092687 5.99042221 6.00846785\n",
      " 5.99245736 6.00676196 5.99390426 6.00552124 5.99497895 6.00458172\n",
      " 5.99580732 6.00384559 5.99646623 6.0032518  5.99700472 6.00276057\n",
      " 5.99745535 6.00234499 5.99784053 6.00198625 5.99817622 6.00167073\n",
      " 5.99847408 6.00138834 5.99874291 6.00113138 5.99898951 6.0008938\n",
      " 5.99921929 6.00067071 5.99943669 6.00045806 5.99964548 6.0002523\n",
      " 5.99984899 6.00005028 6.00005028 5.99984899 6.0002523  5.99964548\n",
      " 6.00045806 5.99943669 6.00067071 5.99921929 6.0008938  5.99898951\n",
      " 6.00113138 5.99874291 6.00138834 5.99847408 6.00167073 5.99817622\n",
      " 6.00198625 5.99784053 6.00234499 5.99745535 6.00276057 5.99700472\n",
      " 6.0032518  5.99646623 6.00384559 5.99580732 6.00458172 5.99497895\n",
      " 6.00552124 5.99390426 6.00676196 5.99245736 6.00846785 5.99042221\n",
      " 6.01092687 5.98741051 6.01466845 5.98269278 6.02070788 5.97484262\n",
      " 6.0310664  5.96097328 6.0498965  5.93507302 6.08595179 5.88433035\n",
      " 6.15806815 5.78094046 6.30743631 5.56369049]\n",
      "43\n"
     ]
    }
   ],
   "source": [
    "#---------------------------------#\n",
    "#-- ChatGPT optimized code: \n",
    "#---------------------------------#\n",
    "\n",
    "# Problem parameters\n",
    "sigma_s = 0.5        # Macroscopic cross-section for scattering [cm^(-1)]\n",
    "sigma_t = 1          # Macroscopic total interaction cross-section [cm^(-1)]\n",
    "q_ext = 3            # External source density rate\n",
    "\n",
    "# Left- and right-endpoints of domain\n",
    "a = 0\n",
    "b = 1000\n",
    "\n",
    "# Number of cells in domain\n",
    "ncells = 100\n",
    "npts = ncells + 1\n",
    "points = np.linspace(a, b, npts)\n",
    "dx = np.abs(points[1] - points[0])\n",
    "\n",
    "# Auxillary term for calculation clarity in the loops below\n",
    "aux_term = (sigma_t / 2.0) * dx\n",
    "\n",
    "# Boundary conditions\n",
    "# psi_left = 1.5\n",
    "# psi_right = 1.5\n",
    "# psi_left = (1/2.0)*(q_ext/(sigma_t - sigma_s))\n",
    "psi_left = 0\n",
    "psi_right = 0\n",
    "\n",
    "# Quadrature order (needs to be EVEN to avoid mu = 0)\n",
    "m = 16\n",
    "angles, weights = scipy.special.roots_legendre(m)\n",
    "angles = np.flip(angles)  # Reverse angles order to go from positive to negative\n",
    "\n",
    "eps = 1e-14\n",
    "\n",
    "# Initial guess for scalar fluxes\n",
    "# curr_scalar_fluxes = np.full((ncells,), np.log(2))\n",
    "curr_scalar_fluxes = np.full((ncells, ), q_ext/(sigma_t - sigma_s))\n",
    "new_scalar_fluxes = np.zeros_like(curr_scalar_fluxes)\n",
    "\n",
    "# Iterate until convergence\n",
    "l = 0\n",
    "while True:\n",
    "    l += 1\n",
    "    # Compute source term\n",
    "    curr_source_term = (q_ext + sigma_s * curr_scalar_fluxes) / 2.0\n",
    "    \n",
    "    # Reset new scalar fluxes to zero for this iteration\n",
    "    np.copyto(new_scalar_fluxes, 0.0)\n",
    "    \n",
    "    for d, mu in enumerate(angles):\n",
    "        abs_mu = np.abs(mu)\n",
    "        psi_prev = psi_left if mu > 0 else psi_right\n",
    "\n",
    "        # Forward sweep\n",
    "        if mu > 0:\n",
    "            for i in np.arange(ncells):\n",
    "                psi_d_i_next = ((abs_mu - aux_term) * psi_prev + curr_source_term[i] * dx) / \\\n",
    "                            (abs_mu + aux_term)\n",
    "                avg_psi = (psi_d_i_next + psi_prev) / 2.0\n",
    "                new_scalar_fluxes[i] += avg_psi * weights[d]\n",
    "                psi_prev = psi_d_i_next\n",
    "        # Reverse sweep\n",
    "        else:\n",
    "            for i in np.arange(ncells - 1, -1, -1):\n",
    "                psi_d_i_next = ((abs_mu - aux_term) * psi_prev + curr_source_term[i] * dx) / \\\n",
    "                        (abs_mu + aux_term)\n",
    "                avg_psi = (psi_d_i_next + psi_prev) / 2.0\n",
    "                new_scalar_fluxes[i] += avg_psi * weights[d]\n",
    "                psi_prev = psi_d_i_next\n",
    "    \n",
    "    # Check convergence\n",
    "    max_scalar_flux_err = np.max(np.abs(new_scalar_fluxes - curr_scalar_fluxes))\n",
    "    if max_scalar_flux_err < eps:\n",
    "        break\n",
    "    \n",
    "    # Update the scalar fluxes\n",
    "    curr_scalar_fluxes[:] = new_scalar_fluxes\n",
    "\n",
    "# Output the final scalar fluxes\n",
    "print(curr_scalar_fluxes)\n",
    "print(l)"
   ]
  },
  {
   "cell_type": "code",
   "execution_count": 19,
   "metadata": {},
   "outputs": [
    {
     "data": {
      "image/png": "[encoded data removed]",
      "text/plain": [
       "<Figure size 640x480 with 1 Axes>"
      ]
     },
     "metadata": {},
     "output_type": "display_data"
    }
   ],
   "source": [
    "plt.figure()\n",
    "plt.plot(np.arange(ncells) + 1, curr_scalar_fluxes, 'o-')  \n",
    "plt.xlabel('Cell number')\n",
    "plt.ylabel('Scalar flux')\n",
    "plt.title('Scalar flux in each cell')\n",
    "plt.show()"
   ]
  },
  {
   "cell_type": "code",
   "execution_count": 13,
   "metadata": {},
   "outputs": [
    {
     "name": "stdout",
     "output_type": "stream",
     "text": [
      "[6. 6. 6. 6. 6. 6. 6. 6. 6.]\n"
     ]
    }
   ],
   "source": []
  }
 ],
 "metadata": {
  "kernelspec": {
   "display_name": "ray-tracing",
   "language": "python",
   "name": "python3"
  },
  "language_info": {
   "codemirror_mode": {
    "name": "ipython",
    "version": 3
   },
   "file_extension": ".py",
   "mimetype": "text/x-python",
   "name": "python",
   "nbconvert_exporter": "python",
   "pygments_lexer": "ipython3",
   "version": "3.12.5"
  }
 },
 "nbformat": 4,
 "nbformat_minor": 2
}
