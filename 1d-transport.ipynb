{
 "cells": [
  {
   "cell_type": "code",
   "execution_count": 4,
   "metadata": {},
   "outputs": [],
   "source": [
    "import numpy as np\n",
    "import scipy\n",
    "import matplotlib.pyplot as plt"
   ]
  },
  {
   "cell_type": "code",
   "execution_count": 33,
   "metadata": {},
   "outputs": [
    {
     "name": "stdout",
     "output_type": "stream",
     "text": [
      "[3.91017459 4.64830646 4.62332481 4.68593281 4.66123171 4.68034355\n",
      " 4.66817869 4.67677111 4.67083416]\n"
     ]
    }
   ],
   "source": [
    "# Problem parameters\n",
    "sigma_s = 0.5 # Macroscopic cross section for scattering [cm^(-1)] {Play with sigma_s = ln(2) or something}\n",
    "sigma_t = 1 # Macroscopic total interaction cross section [cm^(-1)] (reciprocal is neutron mean free path (mfp))\n",
    "q_ext = 3 # External source density rate [TODO: insert units]\n",
    "# q = q_ext/2.0 # Source density rate [TODO: insert units]\n",
    "\n",
    "# Left- and right-endpoints of domain\n",
    "a = 0\n",
    "b = 10\n",
    "\n",
    "# Number of cells in domain\n",
    "ncells = 9\n",
    "# Number of points in domain\n",
    "npts   = ncells + 1\n",
    "points = np.linspace(a, b, npts)\n",
    "dx     = np.abs(points[1] - points[0])\n",
    "\n",
    "# Auxillary term for calculation clarity in the loops below\n",
    "aux_term = (sigma_t/2.0)*dx\n",
    "\n",
    "# BCs\n",
    "psi_left = 1.5\n",
    "psi_right = 1.5\n",
    "\n",
    "# Quadrature order (needs to be EVEN to avoid mu = 0)\n",
    "m = 16\n",
    "angles, weights = scipy.special.roots_legendre(m)\n",
    "# By default, angles go from negative to positive, and we want the opposite\n",
    "angles = np.flip(angles)\n",
    "\n",
    "eps = 1e-14\n",
    "\n",
    "curr_scalar_fluxes = np.full((ncells, ), np.log(2))\n",
    "new_scalar_fluxes  = np.zeros(curr_scalar_fluxes.shape)\n",
    "max_scalar_flux_err = np.max(np.abs(new_scalar_fluxes - curr_scalar_fluxes))\n",
    "\n",
    "while np.any(max_scalar_flux_err >= eps):\n",
    "    # Iteratively compute source term as we update the scalar fluxes\n",
    "    curr_source_term = (q_ext + sigma_s*curr_scalar_fluxes)/2.0\n",
    "    # Reset new scalar fluxes to zero to iteratively update the current scalar fluxes\n",
    "    new_scalar_fluxes[:] = 0.0\n",
    "    for d, mu in enumerate(angles):\n",
    "        abs_mu = np.abs(mu)\n",
    "        if mu > 0:\n",
    "            psi_prev = psi_left\n",
    "        else:\n",
    "            psi_prev = psi_right\n",
    "        \n",
    "        for i in np.arange(ncells):\n",
    "            psi_d_i_next      = ((abs_mu - aux_term) * psi_prev + curr_source_term[i]*dx)/ \\\n",
    "                                 (abs_mu + aux_term)\n",
    "            avg_psi           = (psi_d_i_next + psi_prev)/2.0\n",
    "            new_scalar_fluxes[i] += avg_psi * weights[d]\n",
    "            # Store new angular flux at current direction and cell interface\n",
    "            # to update the next angular flux at the next cell interface\n",
    "            # in the same direction\n",
    "            psi_prev = psi_d_i_next \n",
    "    \n",
    "    # Re-compute max errorn and update source term with updated scalar flux\n",
    "    max_scalar_flux_err = np.max(np.abs(new_scalar_fluxes - curr_scalar_fluxes))\n",
    "    curr_scalar_fluxes = new_scalar_fluxes\n",
    "\n",
    "print(curr_scalar_fluxes)"
   ]
  }
 ],
 "metadata": {
  "kernelspec": {
   "display_name": "ray-tracing",
   "language": "python",
   "name": "python3"
  },
  "language_info": {
   "codemirror_mode": {
    "name": "ipython",
    "version": 3
   },
   "file_extension": ".py",
   "mimetype": "text/x-python",
   "name": "python",
   "nbconvert_exporter": "python",
   "pygments_lexer": "ipython3",
   "version": "3.12.5"
  }
 },
 "nbformat": 4,
 "nbformat_minor": 2
}
