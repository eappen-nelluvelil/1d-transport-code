{
 "cells": [
  {
   "cell_type": "code",
   "execution_count": 1,
   "metadata": {},
   "outputs": [],
   "source": [
    "import numpy as np\n",
    "import scipy\n",
    "import matplotlib.pyplot as plt"
   ]
  },
  {
   "cell_type": "code",
   "execution_count": 7,
   "metadata": {},
   "outputs": [],
   "source": [
    "# Problem parameters\n",
    "# (Double-check with Ragusa on appropriate parameters)\n",
    "sigma_s = 0 # Macroscopic cross section for scattering [cm^(-1)]\n",
    "sigma_t = 1 # Macroscopic total interaction cross section [cm^(-1)] (reciprocal is neutron mfp)\n",
    "q_ext = 3 \n",
    "q = q_ext/2.0\n",
    "# Vacuum boundary conditions\n",
    "psi_left = 0\n",
    "psi_right = 0\n",
    "\n",
    "# Number of points in domain\n",
    "npts = 21\n",
    "# Left- and right-endpoints of domain\n",
    "a = 0\n",
    "b = 1\n",
    "points = np.linspace(a, b, npts)\n",
    "dx     = np.abs(points[1] - points[0])\n",
    "\n",
    "# Quadrature order (needs to be odd to avoid mu = 0)\n",
    "n = 16\n",
    "mu_s, weights = scipy.special.roots_legendre(n)\n",
    "# By default, mu_s entries go from negative to positive, and we want the opposite\n",
    "mu_s = np.flip(mu_s)\n",
    "\n",
    "# Array to store angular flux values (each row corresponds to a different angle,\n",
    "# and there as many columns as there are points)\n",
    "psi_vals = np.zeros((mu_s.size, npts))\n",
    "# Impose BCs\n",
    "psi_vals[0:int((n/2)), 0]  = psi_left # Impose left BC for forward sweep\n",
    "psi_vals[int((n/2)):, -1] = psi_right # Impose right BC for reverse sweep\n",
    "\n",
    "for mu_idx, mu_d in enumerate(mu_s):\n",
    "    # If angle is greater than 0, perform a forward sweep (left -> right)\n",
    "    if mu_d > 0:\n",
    "        # Loop through points (cell boundaries)\n",
    "        for pt_idx in np.arange(npts):\n",
    "            # print(f\"Forward sweep: {cell_idx}\")\n",
    "            # Point to the right of current point       \n",
    "            if pt_idx < (npts - 1):\n",
    "                pt_r_idx = pt_idx + 1 \n",
    "                psi_vals[mu_idx, pt_r_idx] = (q*dx + mu_d*psi_vals[mu_idx, pt_idx] - (sigma_t/2.0)*psi_vals[mu_idx, pt_idx]*dx) / \\\n",
    "                                            (mu_d + ((sigma_t * dx)/2.0))\n",
    "    # If angle is less than 0, perform a reverse sweep (right -> left)            \n",
    "    else:\n",
    "        for pt_idx in np.arange(npts-1, -1, -1):\n",
    "                # Reverse sweep    \n",
    "                pt_l_idx = pt_idx - 1\n",
    "                psi_vals[mu_idx, pt_l_idx] = (q*dx - mu_d*psi_vals[mu_idx, pt_idx] - (sigma_t/2.0)*psi_vals[mu_idx, pt_idx]*dx) / \\\n",
    "                                            (-mu_d + ((sigma_t * dx)/2.0))"
   ]
  },
  {
   "cell_type": "code",
   "execution_count": 9,
   "metadata": {},
   "outputs": [
    {
     "name": "stdout",
     "output_type": "stream",
     "text": [
      "[[1.49996873 1.4999464  1.49990813 1.49984252 1.49973005 1.49953727\n",
      "  1.49920681 1.49864034 1.49766933 1.49600486 1.4931517  1.48826094\n",
      "  1.47987739 1.46550667 1.44087297 1.39864693 1.32626482 1.20219043\n",
      "  0.98950732 0.62493485 1.49998176]\n",
      " [1.4573616  1.44905338 1.43912627 1.42726483 1.41309216 1.3961579\n",
      "  1.37592394 1.35174733 1.32285984 1.28834353 1.2471016  1.19782357\n",
      "  1.13894355 1.06859057 0.98452911 0.884088   0.76407563 0.62067848\n",
      "  0.44933994 0.24461556 1.46431494]\n",
      " [1.33136745 1.31189562 1.2901754  1.26594718 1.23892134 1.20877485\n",
      "  1.17514739 1.13763699 1.09579531 1.04912221 0.99705982 0.93898583\n",
      "  0.87420611 0.80194633 0.7213428  0.63143206 0.53113941 0.41926608\n",
      "  0.29447485 0.15527411 1.34882363]\n",
      " [1.20295333 1.17790201 1.150738   1.12128311 1.08934416 1.05471166\n",
      "  1.01715843 0.97643816 0.93228377 0.88440563 0.8324897  0.77619546\n",
      "  0.71515368 0.64896395 0.57719214 0.49936748 0.4149795  0.32347469\n",
      "  0.22425287 0.1166632  1.22605628]\n",
      " [1.10100754 1.07369442 1.04451157 1.01333101 0.98001597 0.94442034\n",
      "  0.90638801 0.86575217 0.82233459 0.77594485 0.72637949 0.67342112\n",
      "  0.61683747 0.55638038 0.49178469 0.42276708 0.34902485 0.27023459\n",
      "  0.18605072 0.09610402 1.12657072]\n",
      " [1.02767247 0.99957885 0.96981424 0.93827926 0.90486861 0.86947072\n",
      "  0.8319674  0.79223341 0.75013608 0.70553484 0.65828075 0.60821604\n",
      "  0.55517352 0.49897607 0.43943606 0.37635465 0.30952122 0.2387126\n",
      "  0.16369234 0.08420994 1.05418892]\n",
      " [0.97975704 0.9514699  0.92164471 0.89019783 0.85704109 0.82208152\n",
      "  0.7852211  0.74635647 0.70537865 0.66217275 0.61661762 0.56858552\n",
      "  0.51794177 0.46454438 0.40824361 0.3488816  0.2862919  0.22029902\n",
      "  0.15071792 0.07735348 1.00658545]\n",
      " [0.95417817 0.92587968 0.89611404 0.86480517 0.83187308 0.7972336\n",
      "  0.76079822 0.72247381 0.68216246 0.63976113 0.59516149 0.54824954\n",
      "  0.49890541 0.447003   0.39240968 0.33498593 0.27458502 0.21105257\n",
      "  0.14422624 0.07393526 0.98108183]]\n"
     ]
    }
   ],
   "source": [
    "# Compute average flux (average of each consecutive 2 angular flux values for each angle)\n",
    "average_flux = psi_vals[:, 0:(npts-1)] + psi_vals[:, 1:npts]/2.0\n",
    "# print(average_flux[0:int(n/2), :])\n",
    "print(psi_vals[int(n/2):, :])"
   ]
  }
 ],
 "metadata": {
  "kernelspec": {
   "display_name": "Python 3",
   "language": "python",
   "name": "python3"
  },
  "language_info": {
   "codemirror_mode": {
    "name": "ipython",
    "version": 3
   },
   "file_extension": ".py",
   "mimetype": "text/x-python",
   "name": "python",
   "nbconvert_exporter": "python",
   "pygments_lexer": "ipython3",
   "version": "3.12.5"
  }
 },
 "nbformat": 4,
 "nbformat_minor": 2
}
