{
 "cells": [
  {
   "cell_type": "code",
   "execution_count": 2,
   "metadata": {},
   "outputs": [],
   "source": [
    "import numpy as np\n",
    "import scipy\n",
    "import matplotlib.pyplot as plt"
   ]
  },
  {
   "cell_type": "code",
   "execution_count": 8,
   "metadata": {},
   "outputs": [],
   "source": [
    "# Problem parameters\n",
    "# (Double-check with Ragusa on appropriate parameters)\n",
    "sigma_s = 0 # Macroscopic cross section for scattering [cm^(-1)] {Play with sigma_s = ln(2) or something}\n",
    "sigma_t = 1 # Macroscopic total interaction cross section [cm^(-1)] (reciprocal is neutron mfp)\n",
    "q_ext = 3 \n",
    "q = q_ext/2.0\n",
    "# Vacuum boundary conditions\n",
    "psi_left = 1.5\n",
    "psi_right = 1.5\n",
    "\n",
    "# Number of points in domain\n",
    "npts = 101\n",
    "# Left- and right-endpoints of domain\n",
    "a = 0\n",
    "b = 10\n",
    "points = np.linspace(a, b, npts)\n",
    "dx     = np.abs(points[1] - points[0])\n",
    "\n",
    "# Quadrature order (needs to be odd to avoid mu = 0)\n",
    "n = 16\n",
    "mu_s, weights = scipy.special.roots_legendre(n)\n",
    "# By default, mu_s entries go from negative to positive, and we want the opposite\n",
    "mu_s = np.flip(mu_s)\n",
    "\n",
    "# Array to store angular flux values (each row corresponds to a different angle,\n",
    "# and there as many columns as there are points)\n",
    "psi_vals = np.zeros((mu_s.size, npts))\n",
    "# Impose BCs\n",
    "psi_vals[0:int((n/2)), 0]  = psi_left # Impose left BC for forward sweep\n",
    "psi_vals[int((n/2)):, -1] = psi_right # Impose right BC for reverse sweep\n",
    "\n",
    "for mu_idx, mu_d in enumerate(mu_s):\n",
    "    # If angle is greater than 0, perform a forward sweep (left -> right)\n",
    "    if mu_d > 0:\n",
    "        # Loop through points (cell boundaries)\n",
    "        for pt_idx in np.arange(npts-1):\n",
    "            # print(f\"Forward sweep: {cell_idx}\")\n",
    "            # Point to the right of current point\n",
    "            if pt_idx < (npts - 1):\n",
    "                pt_r_idx = pt_idx + 1 \n",
    "                psi_vals[mu_idx, pt_r_idx] = (q*dx + mu_d*psi_vals[mu_idx, pt_idx] - (sigma_t/2.0)*psi_vals[mu_idx, pt_idx]*dx) / \\\n",
    "                                            (mu_d + ((sigma_t * dx)/2.0))\n",
    "    # If angle is less than 0, perform a reverse sweep (right -> left)            \n",
    "    else:\n",
    "        for pt_idx in np.arange(npts-1, -1, -1):\n",
    "                # Reverse sweep \n",
    "                if pt_idx > 0:\n",
    "                    pt_l_idx = pt_idx - 1\n",
    "                    psi_vals[mu_idx, pt_l_idx] = (q*dx - mu_d*psi_vals[mu_idx, pt_idx] - (sigma_t/2.0)*psi_vals[mu_idx, pt_idx]*dx) / \\\n",
    "                                                (-mu_d + ((sigma_t * dx)/2.0))"
   ]
  },
  {
   "cell_type": "code",
   "execution_count": 9,
   "metadata": {},
   "outputs": [
    {
     "data": {
      "image/png": "[encoded data removed]",
      "text/plain": [
       "<Figure size 640x480 with 1 Axes>"
      ]
     },
     "metadata": {},
     "output_type": "display_data"
    }
   ],
   "source": [
    "# Compute average flux (average of each consecutive 2 angular flux values for each angle)\n",
    "average_flux = psi_vals[:, 0:(npts-1)] + psi_vals[:, 1:npts]/2.0\n",
    "# print(average_flux[0, :])\n",
    "# print(psi_vals[0:int(n/2), :])\n",
    "# print(psi_vals[int(n/2):, :])\n",
    "scalar_fluxes = np.sum(weights.reshape((n, 1)) * psi_vals, axis=0)\n",
    "# print(scalar_fluxes.shape)\n",
    "# print(scalar_fluxes)\n",
    "\n",
    "plt.figure()\n",
    "plt.plot(points, scalar_fluxes, 'r.')\n",
    "plt.xlabel(\"x\")\n",
    "plt.ylabel(\"Scalar fluxes\")\n",
    "plt.title(\"Plot of scalar fluxes\")\n",
    "plt.show()"
   ]
  },
  {
   "cell_type": "code",
   "execution_count": 30,
   "metadata": {},
   "outputs": [
    {
     "name": "stdout",
     "output_type": "stream",
     "text": [
      "(16, 1)\n"
     ]
    }
   ],
   "source": []
  }
 ],
 "metadata": {
  "kernelspec": {
   "display_name": "Python 3",
   "language": "python",
   "name": "python3"
  },
  "language_info": {
   "codemirror_mode": {
    "name": "ipython",
    "version": 3
   },
   "file_extension": ".py",
   "mimetype": "text/x-python",
   "name": "python",
   "nbconvert_exporter": "python",
   "pygments_lexer": "ipython3",
   "version": "3.12.5"
  }
 },
 "nbformat": 4,
 "nbformat_minor": 2
}
