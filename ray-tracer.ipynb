{
 "cells": [
  {
   "cell_type": "code",
   "execution_count": 1,
   "metadata": {},
   "outputs": [],
   "source": [
    "import numpy as np\n",
    "import scipy\n",
    "import matplotlib.pyplot as plt"
   ]
  },
  {
   "cell_type": "code",
   "execution_count": 7,
   "metadata": {},
   "outputs": [],
   "source": [
    "# Problem parameters\n",
    "# (Double-check with Ragusa on appropriate parameters)\n",
    "sigma_s = 0\n",
    "sigma_t = 1\n",
    "q_ext = 3\n",
    "q = q_ext/2.0\n",
    "# Vacuum boundary conditions\n",
    "psi_left = 0\n",
    "psi_right = 0\n",
    "\n",
    "# Number of points in domain\n",
    "npts = 21\n",
    "# Left- and right-endpoints of domain\n",
    "a = 0\n",
    "b = 1\n",
    "points = np.linspace(a, b, npts)\n",
    "dx     = np.abs(points[1] - points[0])\n",
    "\n",
    "# Quadrature order (needs to be odd to avoid mu = 0)\n",
    "n = 16\n",
    "mu_s, weights = scipy.special.roots_legendre(n)\n",
    "# By default, mu_s entries go from negative to positive, and we want the opposite\n",
    "mu_s = np.flip(mu_s)\n",
    "\n",
    "# Array to store angular flux values (each row corresponds to a different angle,\n",
    "# and there as many columns as there are points)\n",
    "psi_vals = np.zeros((mu_s.size, npts))\n",
    "# Impose BCs\n",
    "psi_vals[0:int((n/2)), 0]  = psi_left # Impose left BC for forward sweep\n",
    "psi_vals[int((n/2)):, -1] = psi_right # Impose right BC for reverse sweep\n",
    "\n",
    "for mu_idx, mu_d in enumerate(mu_s):\n",
    "    # If angle is greater than 0, perform a forward sweep (left -> right)\n",
    "    if mu_d > 0:\n",
    "        # Loop through points (cell boundaries)\n",
    "        for pt_idx in np.arange(npts):\n",
    "            # print(f\"Forward sweep: {cell_idx}\")\n",
    "            # Point to the right of current point       \n",
    "            if pt_idx < (npts - 1):\n",
    "                pt_r_idx = pt_idx + 1 \n",
    "                psi_vals[mu_idx, pt_r_idx] = (q*dx + mu_d*psi_vals[mu_idx, pt_idx] - (sigma_t/2.0)*psi_vals[mu_idx, pt_idx]*dx) / \\\n",
    "                                            (mu_d + ((sigma_t * dx)/2.0))\n",
    "    # If angle is less than 0, perform a reverse sweep (right -> left)            \n",
    "    else:\n",
    "        for pt_idx in np.arange(npts-1, -1, -1):\n",
    "                # Reverse sweep    \n",
    "                pt_l_idx = pt_idx - 1\n",
    "                psi_vals[mu_idx, pt_l_idx] = (q*dx - mu_d*psi_vals[mu_idx, pt_idx] - (sigma_t/2.0)*psi_vals[mu_idx, pt_idx]*dx) / \\\n",
    "                                            (-mu_d + ((sigma_t * dx)/2.0))"
   ]
  },
  {
   "cell_type": "code",
   "execution_count": 8,
   "metadata": {},
   "outputs": [
    {
     "name": "stdout",
     "output_type": "stream",
     "text": [
      "[[0.03696763 0.14604839 0.24975253 0.34834508 0.44207798 0.53119078\n",
      "  0.61591118 0.69645571 0.77303018 0.84583028 0.91504205 0.98084236\n",
      "  1.04339937 1.10287292 1.15941502 1.21317014 1.26427567 1.31286219\n",
      "  1.35905388 1.40296877]\n",
      " [0.03867674 0.15271244 0.26086743 0.36344497 0.4607327  0.5530034\n",
      "  0.64051579 0.72351526 0.80223453 0.87689433 0.94770399 1.01486208\n",
      "  1.07855689 1.13896702 1.19626186 1.25060207 1.30214    1.35102018\n",
      "  1.39737966 1.44134843]\n",
      " [0.04210497 0.16605611 0.28304863 0.39347321 0.49769855 0.59607268\n",
      "  0.68892409 0.77656283 0.85928153 0.93735641 1.01104817 1.08060288\n",
      "  1.14625279 1.20821711 1.26670276 1.32190503 1.37400824 1.42318638\n",
      "  1.46960367 1.51341509]\n",
      " [0.04805201 0.18912938 0.32116801 0.44474701 0.56040839 0.66865942\n",
      "  0.76997488 0.86479912 0.95354803 1.03661086 1.11435191 1.18711214\n",
      "  1.25521067 1.31894617 1.37859818 1.43442833 1.48668147 1.53558679\n",
      "  1.58135878 1.62419818]\n",
      " [0.0583316  0.22878963 0.38599021 0.53096444 0.66466324 0.78796354\n",
      "  0.90167411 1.00654079 1.10325141 1.19244031 1.27469251 1.35054751\n",
      "  1.42050285 1.48501737 1.54451425 1.59938374 1.64998572 1.69665211\n",
      "  1.739689   1.77937868]\n",
      " [0.07763705 0.30251154 0.50410789 0.68483579 0.84685544 0.99210346\n",
      "  1.12231597 1.23904939 1.34369903 1.43751574 1.52162092 1.59701987\n",
      "  1.6646138  1.72521068 1.77953481 1.82823552 1.87189492 1.91103488\n",
      "  1.94612322 1.97757935]\n",
      " [0.12230778 0.46928553 0.75967918 1.00271629 1.20611963 1.37635255\n",
      "  1.51882439 1.63806235 1.73785533 1.82137437 1.89127337 1.94977345\n",
      "  1.9987335  2.0397093  2.07400289 2.10270397 2.12672457 2.14682797\n",
      "  2.16365296 2.17773418]\n",
      " [0.31246743 1.11968851 1.59060254 1.86532284 2.02558828 2.11908342\n",
      "  2.17362631 2.20544536 2.22400786 2.23483679 2.24115414 2.24483953\n",
      "  2.2469895  2.24824374 2.24897544 2.2494023  2.24965131 2.24979658\n",
      "  2.24988133 2.24993077]]\n"
     ]
    }
   ],
   "source": [
    "# Compute average flux (average of each consecutive 2 angular flux values for each angle)\n",
    "average_flux = psi_vals[:, 0:(npts-1)] + psi_vals[:, 1:npts]/2.0\n",
    "# print(average_flux[0:int(n/2), :])\n",
    "print(psi_vals[int(n/2):, :])"
   ]
  }
 ],
 "metadata": {
  "kernelspec": {
   "display_name": "Python 3",
   "language": "python",
   "name": "python3"
  },
  "language_info": {
   "codemirror_mode": {
    "name": "ipython",
    "version": 3
   },
   "file_extension": ".py",
   "mimetype": "text/x-python",
   "name": "python",
   "nbconvert_exporter": "python",
   "pygments_lexer": "ipython3",
   "version": "3.12.5"
  }
 },
 "nbformat": 4,
 "nbformat_minor": 2
}
